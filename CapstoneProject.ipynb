{
  "nbformat": 4,
  "nbformat_minor": 0,
  "metadata": {
    "colab": {
      "name": "CapstoneProject.ipynb",
      "provenance": [],
      "authorship_tag": "ABX9TyN2+OJzsdQA4lyQ9pVAHZh8",
      "include_colab_link": true
    },
    "kernelspec": {
      "name": "python3",
      "display_name": "Python 3"
    }
  },
  "cells": [
    {
      "cell_type": "markdown",
      "metadata": {
        "id": "view-in-github",
        "colab_type": "text"
      },
      "source": [
        "<a href=\"https://colab.research.google.com/github/xeltgit/github-example/blob/master/CapstoneProject.ipynb\" target=\"_parent\"><img src=\"https://colab.research.google.com/assets/colab-badge.svg\" alt=\"Open In Colab\"/></a>"
      ]
    },
    {
      "cell_type": "code",
      "metadata": {
        "id": "q94n82g_qBS-",
        "colab_type": "code",
        "colab": {}
      },
      "source": [
        "This notebook is being used for my capstone project\n",
        "\n"
      ],
      "execution_count": 0,
      "outputs": []
    }
  ]
}